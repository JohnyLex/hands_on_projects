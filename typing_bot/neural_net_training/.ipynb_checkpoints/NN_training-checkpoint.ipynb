{
 "cells": [
  {
   "cell_type": "code",
   "execution_count": 1,
   "metadata": {},
   "outputs": [
    {
     "name": "stderr",
     "output_type": "stream",
     "text": [
      "Using TensorFlow backend.\n"
     ]
    },
    {
     "name": "stdout",
     "output_type": "stream",
     "text": [
      "There are 61 total character categories.\n",
      "There are 17568 total character images.\n",
      "\n",
      "There are 14091 training character images.\n",
      "There are 3477 validation character images.\n"
     ]
    }
   ],
   "source": [
    "from sklearn.datasets import load_files       \n",
    "from keras.utils import np_utils\n",
    "import numpy as np\n",
    "from glob import glob\n",
    "\n",
    "# define function to load train, test, and validation datasets\n",
    "def load_dataset(path, num_classes):\n",
    "    data = load_files(path, random_state=1)\n",
    "    files = np.array(data['filenames'])\n",
    "    targets = np_utils.to_categorical(np.array(data['target']), num_classes)\n",
    "    return files, targets\n",
    "\n",
    "# load list of character names\n",
    "char_names = [item[42:-1] for item in sorted(glob(\"../char_gen/generated_char_split/train/*/\"))]\n",
    "num_classes = len(char_names)\n",
    "\n",
    "# load train, test, and validation datasets\n",
    "train_files, train_targets = load_dataset('../char_gen/generated_char_split/train', num_classes)\n",
    "valid_files, valid_targets = load_dataset('../char_gen/generated_char_split/valid', num_classes)\n",
    "\n",
    "# print statistics about the dataset\n",
    "print('There are %d total character categories.' % len(char_names))\n",
    "print('There are %s total character images.\\n' % len(np.hstack([train_files, valid_files])))\n",
    "print('There are %d training character images.' % len(train_files))\n",
    "print('There are %d validation character images.' % len(valid_files))"
   ]
  },
  {
   "cell_type": "code",
   "execution_count": 2,
   "metadata": {},
   "outputs": [
    {
     "name": "stdout",
     "output_type": "stream",
     "text": [
      "['../char_gen/generated_char_split/train/53.}/1-17036_GillSans_fs_26_bc_125_}.png'\n",
      " '../char_gen/generated_char_split/train/10.K/1-5127_arial_fs_23_bc_100_K.png'\n",
      " '../char_gen/generated_char_split/train/54.[/1-8312_arial_fs_26_bc_65_[.png'\n",
      " '../char_gen/generated_char_split/train/13.N/1-1003_swiss_fs_28_bc_120_N.png'\n",
      " '../char_gen/generated_char_split/train/16.Q/1-5566_arial_fs_23_bc_135_Q.png']\n",
      "[[0. 0. 0. 0. 0. 0. 0. 0. 0. 0. 0. 0. 0. 0. 0. 0. 0. 0. 0. 0. 0. 0. 0. 0.\n",
      "  0. 0. 0. 0. 0. 0. 0. 0. 0. 0. 0. 0. 0. 0. 0. 0. 0. 0. 0. 0. 0. 0. 0. 0.\n",
      "  0. 0. 0. 0. 0. 1. 0. 0. 0. 0. 0. 0. 0.]\n",
      " [0. 0. 0. 0. 0. 0. 0. 0. 0. 0. 1. 0. 0. 0. 0. 0. 0. 0. 0. 0. 0. 0. 0. 0.\n",
      "  0. 0. 0. 0. 0. 0. 0. 0. 0. 0. 0. 0. 0. 0. 0. 0. 0. 0. 0. 0. 0. 0. 0. 0.\n",
      "  0. 0. 0. 0. 0. 0. 0. 0. 0. 0. 0. 0. 0.]\n",
      " [0. 0. 0. 0. 0. 0. 0. 0. 0. 0. 0. 0. 0. 0. 0. 0. 0. 0. 0. 0. 0. 0. 0. 0.\n",
      "  0. 0. 0. 0. 0. 0. 0. 0. 0. 0. 0. 0. 0. 0. 0. 0. 0. 0. 0. 0. 0. 0. 0. 0.\n",
      "  0. 0. 0. 0. 0. 0. 1. 0. 0. 0. 0. 0. 0.]\n",
      " [0. 0. 0. 0. 0. 0. 0. 0. 0. 0. 0. 0. 0. 1. 0. 0. 0. 0. 0. 0. 0. 0. 0. 0.\n",
      "  0. 0. 0. 0. 0. 0. 0. 0. 0. 0. 0. 0. 0. 0. 0. 0. 0. 0. 0. 0. 0. 0. 0. 0.\n",
      "  0. 0. 0. 0. 0. 0. 0. 0. 0. 0. 0. 0. 0.]\n",
      " [0. 0. 0. 0. 0. 0. 0. 0. 0. 0. 0. 0. 0. 0. 0. 0. 1. 0. 0. 0. 0. 0. 0. 0.\n",
      "  0. 0. 0. 0. 0. 0. 0. 0. 0. 0. 0. 0. 0. 0. 0. 0. 0. 0. 0. 0. 0. 0. 0. 0.\n",
      "  0. 0. 0. 0. 0. 0. 0. 0. 0. 0. 0. 0. 0.]]\n"
     ]
    }
   ],
   "source": [
    "print(train_files[0:5])\n",
    "print(train_targets[0:5])"
   ]
  },
  {
   "cell_type": "code",
   "execution_count": 3,
   "metadata": {},
   "outputs": [],
   "source": [
    "from keras.preprocessing import image                  \n",
    "from tqdm import tqdm\n",
    "\n",
    "def path_to_tensor(img_path):\n",
    "    # loads RGB image as PIL.Image.Image type\n",
    "    img = image.load_img(img_path, target_size=(30, 30), grayscale=True)\n",
    "    # convert PIL.Image.Image type to 3D tensor with shape (30, 30, 1)\n",
    "    x = image.img_to_array(img)\n",
    "    # convert 3D tensor to 4D tensor with shape (1, 224, 224, 3) and return 4D tensor\n",
    "    return np.expand_dims(x, axis=0)\n",
    "\n",
    "def paths_to_tensor(img_paths):\n",
    "    list_of_tensors = [path_to_tensor(img_path) for img_path in tqdm(img_paths)]\n",
    "    return np.vstack(list_of_tensors)"
   ]
  },
  {
   "cell_type": "code",
   "execution_count": 4,
   "metadata": {},
   "outputs": [
    {
     "name": "stderr",
     "output_type": "stream",
     "text": [
      "  0%|          | 0/14091 [00:00<?, ?it/s]/home/chedanix/.local/lib/python2.7/site-packages/keras_preprocessing/image.py:489: UserWarning: grayscale is deprecated. Please use color_mode = \"grayscale\"\n",
      "  warnings.warn('grayscale is deprecated. Please use '\n",
      "100%|██████████| 14091/14091 [00:01<00:00, 11107.03it/s]\n",
      "100%|██████████| 3477/3477 [00:00<00:00, 11116.82it/s]\n"
     ]
    }
   ],
   "source": [
    "from PIL import ImageFile                            \n",
    "ImageFile.LOAD_TRUNCATED_IMAGES = True                 \n",
    "\n",
    "# Load the data\n",
    "train_tensors = paths_to_tensor(train_files)\n",
    "\n",
    "valid_tensors = paths_to_tensor(valid_files)"
   ]
  },
  {
   "cell_type": "code",
   "execution_count": 5,
   "metadata": {},
   "outputs": [
    {
     "name": "stdout",
     "output_type": "stream",
     "text": [
      "(14091, 30, 30, 1)\n",
      "(14091, 61)\n",
      "(3477, 30, 30, 1)\n",
      "(3477, 61)\n"
     ]
    }
   ],
   "source": [
    "print(train_tensors.shape)\n",
    "print(train_targets.shape)\n",
    "\n",
    "print(valid_tensors.shape)\n",
    "print(valid_targets.shape)"
   ]
  },
  {
   "cell_type": "code",
   "execution_count": 6,
   "metadata": {},
   "outputs": [
    {
     "data": {
      "image/png": "[encoded data removed]",
      "text/plain": [
       "<Figure size 1440x360 with 36 Axes>"
      ]
     },
     "metadata": {},
     "output_type": "display_data"
    }
   ],
   "source": [
    "import matplotlib.pyplot as plt\n",
    "%matplotlib inline\n",
    "\n",
    "fig = plt.figure(figsize=(20,5))\n",
    "for i in range(36):\n",
    "    ax = fig.add_subplot(3, 12, i + 1, xticks=[], yticks=[])\n",
    "    ax.imshow(np.squeeze(train_tensors[i]), cmap='gray')"
   ]
  },
  {
   "cell_type": "code",
   "execution_count": 7,
   "metadata": {},
   "outputs": [],
   "source": [
    "from keras.preprocessing.image import ImageDataGenerator\n",
    "\n",
    "# create and configure augmented image generator\n",
    "datagen_train = ImageDataGenerator(\n",
    "    width_shift_range=0.05,  # randomly shift images horizontally\n",
    "    height_shift_range=0.05,  # randomly shift images vertically\n",
    "    horizontal_flip=False,  # randomly flip images horizontally\n",
    "    rotation_range = 7,\n",
    "    zoom_range = [1,1.15]) \n",
    "\n",
    "# fit augmented image generator on data\n",
    "datagen_train.fit(train_tensors)"
   ]
  },
  {
   "cell_type": "code",
   "execution_count": 8,
   "metadata": {},
   "outputs": [
    {
     "data": {
      "image/png": "[encoded data removed]",
      "text/plain": [
       "<Figure size 1440x144 with 12 Axes>"
      ]
     },
     "metadata": {},
     "output_type": "display_data"
    },
    {
     "data": {
      "image/png": "[encoded data removed]",
      "text/plain": [
       "<Figure size 1440x144 with 12 Axes>"
      ]
     },
     "metadata": {},
     "output_type": "display_data"
    }
   ],
   "source": [
    "train_tensors_subset = train_tensors[0:12]\n",
    "\n",
    "# visualize subset of training data\n",
    "fig = plt.figure(figsize=(20,2))\n",
    "for i in range(0, len(train_tensors_subset)):\n",
    "    ax = fig.add_subplot(1, 12, i+1)\n",
    "    ax.imshow(np.squeeze(train_tensors[i]), cmap='gray')\n",
    "fig.suptitle('Subset of Original Training Images', fontsize=20)\n",
    "plt.show()\n",
    "\n",
    "# visualize augmented images\n",
    "fig = plt.figure(figsize=(20,2))\n",
    "for x_batch in datagen_train.flow(train_tensors_subset, batch_size=12):\n",
    "    for i in range(0, 12):\n",
    "        ax = fig.add_subplot(1, 12, i+1)\n",
    "        ax.imshow(np.squeeze(x_batch[i]), cmap='gray')\n",
    "    fig.suptitle('Augmented Images', fontsize=20)\n",
    "    plt.show()\n",
    "    break;"
   ]
  },
  {
   "cell_type": "code",
   "execution_count": 9,
   "metadata": {},
   "outputs": [],
   "source": [
    "# Preprocess the data\n",
    "train_tensors = train_tensors/255*2 - 1\n",
    "valid_tensors = valid_tensors/255*2 - 1"
   ]
  },
  {
   "cell_type": "code",
   "execution_count": 2,
   "metadata": {},
   "outputs": [
    {
     "name": "stderr",
     "output_type": "stream",
     "text": [
      "Using TensorFlow backend.\n"
     ]
    },
    {
     "ename": "NameError",
     "evalue": "name 'train_tensors' is not defined",
     "output_type": "error",
     "traceback": [
      "\u001b[0;31m---------------------------------------------------------------------------\u001b[0m",
      "\u001b[0;31mNameError\u001b[0m                                 Traceback (most recent call last)",
      "\u001b[0;32m<ipython-input-2-81968c2278be>\u001b[0m in \u001b[0;36m<module>\u001b[0;34m()\u001b[0m\n\u001b[1;32m      8\u001b[0m \u001b[0;31m### TODO: Define your architecture.\u001b[0m\u001b[0;34m\u001b[0m\u001b[0;34m\u001b[0m\u001b[0m\n\u001b[1;32m      9\u001b[0m model.add(Conv2D(32, (3, 3), padding='same',\n\u001b[0;32m---> 10\u001b[0;31m                  input_shape=train_tensors.shape[1:]))\n\u001b[0m\u001b[1;32m     11\u001b[0m \u001b[0mmodel\u001b[0m\u001b[0;34m.\u001b[0m\u001b[0madd\u001b[0m\u001b[0;34m(\u001b[0m\u001b[0mActivation\u001b[0m\u001b[0;34m(\u001b[0m\u001b[0;34m'relu'\u001b[0m\u001b[0;34m)\u001b[0m\u001b[0;34m)\u001b[0m\u001b[0;34m\u001b[0m\u001b[0m\n\u001b[1;32m     12\u001b[0m \u001b[0mmodel\u001b[0m\u001b[0;34m.\u001b[0m\u001b[0madd\u001b[0m\u001b[0;34m(\u001b[0m\u001b[0mBatchNormalization\u001b[0m\u001b[0;34m(\u001b[0m\u001b[0;34m)\u001b[0m\u001b[0;34m)\u001b[0m\u001b[0;34m\u001b[0m\u001b[0m\n",
      "\u001b[0;31mNameError\u001b[0m: name 'train_tensors' is not defined"
     ]
    }
   ],
   "source": [
    "from keras.layers import Conv2D, MaxPooling2D, GlobalAveragePooling2D\n",
    "from keras.layers import Dropout, Flatten, Dense, Activation, BatchNormalization\n",
    "from keras.models import Sequential\n",
    "from keras import regularizers\n",
    "\n",
    "model = Sequential()\n",
    "\n",
    "### TODO: Define your architecture.\n",
    "model.add(Conv2D(32, (3, 3), padding='same',\n",
    "                 input_shape=train_tensors.shape[1:]))\n",
    "model.add(Activation('relu'))\n",
    "model.add(BatchNormalization())\n",
    "model.add(Dropout(0.2))\n",
    "model.add(Conv2D(32, (3, 3), padding='same'))\n",
    "model.add(Activation('relu'))\n",
    "model.add(MaxPooling2D(pool_size=(2, 2)))\n",
    "model.add(BatchNormalization())\n",
    "model.add(Dropout(0.2))\n",
    "\n",
    "model.add(Conv2D(64, (3, 3), padding='same'))\n",
    "model.add(Activation('relu'))\n",
    "model.add(BatchNormalization())\n",
    "model.add(Dropout(0.2))\n",
    "model.add(Conv2D(64, (3, 3), padding='same'))\n",
    "model.add(Activation('relu'))\n",
    "model.add(MaxPooling2D(pool_size=(2, 2)))\n",
    "model.add(BatchNormalization())\n",
    "model.add(Dropout(0.2))\n",
    "\n",
    "model.add(Conv2D(128, (3, 3), padding='same'))\n",
    "model.add(Activation('relu'))\n",
    "model.add(BatchNormalization())\n",
    "model.add(Dropout(0.2))\n",
    "model.add(Conv2D(128, (3, 3), padding='same'))\n",
    "model.add(Activation('relu'))\n",
    "\n",
    "model.add(Flatten())\n",
    "model.add(BatchNormalization())\n",
    "model.add(Dropout(0.3))\n",
    "model.add(Dense(256))\n",
    "model.add(Activation('relu'))\n",
    "model.add(BatchNormalization())\n",
    "model.add(Dropout(0.4))\n",
    "model.add(Dense(num_classes))\n",
    "model.add(Activation('softmax'))\n",
    "\n",
    "model.summary()"
   ]
  },
  {
   "cell_type": "code",
   "execution_count": 11,
   "metadata": {},
   "outputs": [],
   "source": [
    "from keras.optimizers import RMSprop, Adam\n",
    "#opt = Adam(lr=0.002, decay=0.01)\n",
    "opt = RMSprop(lr=0.0001)\n",
    "model.compile(optimizer=opt, loss='categorical_crossentropy', metrics=['accuracy'])"
   ]
  },
  {
   "cell_type": "code",
   "execution_count": 142,
   "metadata": {
    "scrolled": true
   },
   "outputs": [
    {
     "name": "stdout",
     "output_type": "stream",
     "text": [
      "Epoch 1/30\n",
      " - 4s - loss: 3.9360 - acc: 0.1188 - val_loss: 1.5137 - val_acc: 0.6120\n",
      "Epoch 2/30\n",
      " - 2s - loss: 2.0269 - acc: 0.4398 - val_loss: 0.4577 - val_acc: 0.8804\n",
      "Epoch 3/30\n",
      " - 2s - loss: 1.1616 - acc: 0.6589 - val_loss: 0.2011 - val_acc: 0.9500\n",
      "Epoch 4/30\n",
      " - 2s - loss: 0.7214 - acc: 0.7936 - val_loss: 0.1063 - val_acc: 0.9735\n",
      "Epoch 5/30\n",
      " - 2s - loss: 0.4921 - acc: 0.8683 - val_loss: 0.0659 - val_acc: 0.9816\n",
      "Epoch 6/30\n",
      " - 2s - loss: 0.3351 - acc: 0.9112 - val_loss: 0.0405 - val_acc: 0.9925\n",
      "Epoch 7/30\n",
      " - 2s - loss: 0.2412 - acc: 0.9381 - val_loss: 0.0320 - val_acc: 0.9919\n",
      "Epoch 8/30\n",
      " - 2s - loss: 0.1758 - acc: 0.9575 - val_loss: 0.0198 - val_acc: 0.9948\n",
      "Epoch 9/30\n",
      " - 2s - loss: 0.1370 - acc: 0.9684 - val_loss: 0.0162 - val_acc: 0.9948\n",
      "Epoch 10/30\n",
      " - 2s - loss: 0.1060 - acc: 0.9750 - val_loss: 0.0144 - val_acc: 0.9942\n",
      "Epoch 11/30\n",
      " - 2s - loss: 0.0851 - acc: 0.9803 - val_loss: 0.0156 - val_acc: 0.9954\n",
      "Epoch 12/30\n",
      " - 2s - loss: 0.0671 - acc: 0.9853 - val_loss: 0.0142 - val_acc: 0.9954\n",
      "Epoch 13/30\n",
      " - 2s - loss: 0.0638 - acc: 0.9852 - val_loss: 0.0158 - val_acc: 0.9954\n",
      "Epoch 14/30\n",
      " - 2s - loss: 0.0491 - acc: 0.9885 - val_loss: 0.0091 - val_acc: 0.9954\n",
      "Epoch 15/30\n",
      " - 2s - loss: 0.0453 - acc: 0.9887 - val_loss: 0.0145 - val_acc: 0.9954\n",
      "Epoch 16/30\n",
      " - 2s - loss: 0.0397 - acc: 0.9899 - val_loss: 0.0218 - val_acc: 0.9954\n",
      "Epoch 17/30\n",
      " - 2s - loss: 0.0375 - acc: 0.9897 - val_loss: 0.0190 - val_acc: 0.9954\n",
      "Epoch 18/30\n",
      " - 2s - loss: 0.0320 - acc: 0.9919 - val_loss: 0.0214 - val_acc: 0.9954\n",
      "Epoch 19/30\n",
      " - 2s - loss: 0.0317 - acc: 0.9910 - val_loss: 0.0194 - val_acc: 0.9954\n",
      "Epoch 20/30\n",
      " - 2s - loss: 0.0256 - acc: 0.9923 - val_loss: 0.0170 - val_acc: 0.9954\n",
      "Epoch 21/30\n",
      " - 2s - loss: 0.0240 - acc: 0.9942 - val_loss: 0.0081 - val_acc: 0.9951\n",
      "Epoch 22/30\n",
      " - 2s - loss: 0.0257 - acc: 0.9923 - val_loss: 0.0184 - val_acc: 0.9954\n",
      "Epoch 23/30\n",
      " - 2s - loss: 0.0235 - acc: 0.9937 - val_loss: 0.0160 - val_acc: 0.9954\n",
      "Epoch 24/30\n",
      " - 2s - loss: 0.0213 - acc: 0.9940 - val_loss: 0.0091 - val_acc: 0.9954\n",
      "Epoch 25/30\n",
      " - 2s - loss: 0.0270 - acc: 0.9919 - val_loss: 0.0235 - val_acc: 0.9954\n",
      "Epoch 26/30\n",
      " - 2s - loss: 0.0217 - acc: 0.9938 - val_loss: 0.0117 - val_acc: 0.9954\n",
      "Epoch 27/30\n",
      " - 2s - loss: 0.0207 - acc: 0.9935 - val_loss: 0.0102 - val_acc: 0.9954\n",
      "Epoch 28/30\n",
      " - 2s - loss: 0.0186 - acc: 0.9942 - val_loss: 0.0154 - val_acc: 0.9954\n",
      "Epoch 29/30\n",
      " - 2s - loss: 0.0180 - acc: 0.9942 - val_loss: 0.0157 - val_acc: 0.9954\n",
      "Epoch 30/30\n",
      " - 2s - loss: 0.0181 - acc: 0.9937 - val_loss: 0.0186 - val_acc: 0.9954\n"
     ]
    }
   ],
   "source": [
    "from keras.callbacks import ModelCheckpoint  \n",
    "\n",
    "### TODO: specify the number of epochs that you would like to use to train the model.\n",
    "\n",
    "epochs = 30\n",
    "batch_size= 128\n",
    "\n",
    "### Do NOT modify the code below this line.\n",
    "\n",
    "checkpointer = ModelCheckpoint(filepath='saved_models/weights.best.hdf5', \n",
    "                               verbose=0, save_best_only=True)\n",
    "\n",
    "hist = model.fit_generator(datagen_train.flow(train_tensors, train_targets, batch_size=batch_size),\n",
    "                    steps_per_epoch=train_tensors.shape[0] // batch_size,\n",
    "                    epochs=epochs, verbose=2, callbacks=[checkpointer],\n",
    "                    validation_data=(valid_tensors, valid_targets),\n",
    "                    validation_steps=valid_tensors.shape[0] // batch_size)"
   ]
  },
  {
   "cell_type": "code",
   "execution_count": 143,
   "metadata": {},
   "outputs": [
    {
     "data": {
      "image/png": "[encoded data removed]",
      "text/plain": [
       "<Figure size 432x288 with 1 Axes>"
      ]
     },
     "metadata": {},
     "output_type": "display_data"
    }
   ],
   "source": [
    "plt.plot(hist.history['acc']) \n",
    "plt.plot(hist.history['val_acc'])\n",
    "plt.title('model accuracy') \n",
    "plt.ylabel('accuracy') \n",
    "plt.xlabel('epoch') \n",
    "plt.legend(['train', 'val'], loc='upper left') \n",
    "plt.show() "
   ]
  },
  {
   "cell_type": "code",
   "execution_count": 4,
   "metadata": {},
   "outputs": [
    {
     "ename": "ValueError",
     "evalue": "You are trying to load a weight file containing 15 layers into a model with 0 layers.",
     "output_type": "error",
     "traceback": [
      "\u001b[0;31m---------------------------------------------------------------------------\u001b[0m",
      "\u001b[0;31mValueError\u001b[0m                                Traceback (most recent call last)",
      "\u001b[0;32m<ipython-input-4-8a9f0397414a>\u001b[0m in \u001b[0;36m<module>\u001b[0;34m()\u001b[0m\n\u001b[1;32m      1\u001b[0m \u001b[0;31m### TODO: Load the model weights with the best validation loss.\u001b[0m\u001b[0;34m\u001b[0m\u001b[0;34m\u001b[0m\u001b[0m\n\u001b[0;32m----> 2\u001b[0;31m \u001b[0mmodel\u001b[0m\u001b[0;34m.\u001b[0m\u001b[0mload_weights\u001b[0m\u001b[0;34m(\u001b[0m\u001b[0;34m'saved_models/good1.hdf5'\u001b[0m\u001b[0;34m)\u001b[0m\u001b[0;34m\u001b[0m\u001b[0m\n\u001b[0m",
      "\u001b[0;32m/home/chedanix/.local/lib/python2.7/site-packages/keras/engine/network.pyc\u001b[0m in \u001b[0;36mload_weights\u001b[0;34m(self, filepath, by_name, skip_mismatch, reshape)\u001b[0m\n\u001b[1;32m   1159\u001b[0m             \u001b[0;32melse\u001b[0m\u001b[0;34m:\u001b[0m\u001b[0;34m\u001b[0m\u001b[0m\n\u001b[1;32m   1160\u001b[0m                 saving.load_weights_from_hdf5_group(\n\u001b[0;32m-> 1161\u001b[0;31m                     f, self.layers, reshape=reshape)\n\u001b[0m\u001b[1;32m   1162\u001b[0m \u001b[0;34m\u001b[0m\u001b[0m\n\u001b[1;32m   1163\u001b[0m     \u001b[0;32mdef\u001b[0m \u001b[0m_updated_config\u001b[0m\u001b[0;34m(\u001b[0m\u001b[0mself\u001b[0m\u001b[0;34m)\u001b[0m\u001b[0;34m:\u001b[0m\u001b[0;34m\u001b[0m\u001b[0m\n",
      "\u001b[0;32m/home/chedanix/.local/lib/python2.7/site-packages/keras/engine/saving.pyc\u001b[0m in \u001b[0;36mload_weights_from_hdf5_group\u001b[0;34m(f, layers, reshape)\u001b[0m\n\u001b[1;32m    898\u001b[0m                          \u001b[0;34m'containing '\u001b[0m \u001b[0;34m+\u001b[0m \u001b[0mstr\u001b[0m\u001b[0;34m(\u001b[0m\u001b[0mlen\u001b[0m\u001b[0;34m(\u001b[0m\u001b[0mlayer_names\u001b[0m\u001b[0;34m)\u001b[0m\u001b[0;34m)\u001b[0m \u001b[0;34m+\u001b[0m\u001b[0;34m\u001b[0m\u001b[0m\n\u001b[1;32m    899\u001b[0m                          \u001b[0;34m' layers into a model with '\u001b[0m \u001b[0;34m+\u001b[0m\u001b[0;34m\u001b[0m\u001b[0m\n\u001b[0;32m--> 900\u001b[0;31m                          str(len(filtered_layers)) + ' layers.')\n\u001b[0m\u001b[1;32m    901\u001b[0m \u001b[0;34m\u001b[0m\u001b[0m\n\u001b[1;32m    902\u001b[0m     \u001b[0;31m# We batch weight value assignments in a single backend call\u001b[0m\u001b[0;34m\u001b[0m\u001b[0;34m\u001b[0m\u001b[0m\n",
      "\u001b[0;31mValueError\u001b[0m: You are trying to load a weight file containing 15 layers into a model with 0 layers."
     ]
    }
   ],
   "source": [
    "### TODO: Load the model weights with the best validation loss.\n",
    "model.load_weights('saved_models/weights.best.hdf5')"
   ]
  },
  {
   "cell_type": "code",
   "execution_count": 13,
   "metadata": {},
   "outputs": [
    {
     "data": {
      "text/plain": [
       "\"\\nfrom matplotlib.colors import NoNorm\\nabc = path_to_tensor('../char_gen/generated_char_split/train/07.H/1-3286_arial_fs_23_bc_135_H.png')\\nabc = abc/255\\nprint(abc.shape)\\nplt.figurewd3\\nplt.imshow(np.squeeze(abc), cmap='gray', norm=NoNorm())\\npredicted_vec = model.predict(abc)\\nprediction = char_names[np.argmax(predicted_vec)]\\nprint(prediction)\\n\""
      ]
     },
     "execution_count": 13,
     "metadata": {},
     "output_type": "execute_result"
    }
   ],
   "source": [
    "'''\n",
    "from matplotlib.colors import NoNorm\n",
    "abc = path_to_tensor('../char_gen/generated_char_split/train/07.H/1-3286_arial_fs_23_bc_135_H.png')\n",
    "abc = abc/255\n",
    "print(abc.shape)\n",
    "plt.figurewd3\n",
    "plt.imshow(np.squeeze(abc), cmap='gray', norm=NoNorm())\n",
    "predicted_vec = model.predict(abc)\n",
    "prediction = char_names[np.argmax(predicted_vec)]\n",
    "print(prediction)\n",
    "'''"
   ]
  },
  {
   "cell_type": "code",
   "execution_count": 14,
   "metadata": {},
   "outputs": [
    {
     "name": "stdout",
     "output_type": "stream",
     "text": [
      "Number of contours: 59\n"
     ]
    }
   ],
   "source": [
    "# dictionary for max_score\n",
    "\n",
    "# Video Capture Test\n",
    "# Display contour image for color image\n",
    "import numpy as np\n",
    "import cv2\n",
    "import pandas as pd\n",
    "import matplotlib.pyplot as plt\n",
    "\n",
    "capital_letters = ['A','B','C','D','E','F','G','H','I','J','K', \\\n",
    "                   'L','M','N','O','P','Q','R','S','T','U','V','W','X','Y','Z']\n",
    "\n",
    "cap = cv2.VideoCapture(0)\n",
    "\n",
    "while True:\n",
    "    ret, frame = cap.read()\n",
    "\n",
    "    contourIM = frame.copy()\n",
    "    gray = cv2.cvtColor(contourIM, cv2.COLOR_BGR2GRAY)\n",
    "    ret, threshold = cv2.threshold(gray,165,255,cv2.THRESH_BINARY)\n",
    "\n",
    "    kernel33 = np.ones((3,3),np.uint8)\n",
    "    kernel22 = np.ones((2,2),np.uint8)\n",
    "    #mask = cv2.morphologyEx(threshold, cv2.MORPH_OPEN, kernel22)\n",
    "    mask = cv2.dilate(threshold,kernel33,iterations = 4)\n",
    "\n",
    "    #findContours() does not modify its input image\n",
    "    _, contours,_ = cv2.findContours(mask,cv2.RETR_TREE, cv2.CHAIN_APPROX_SIMPLE)\n",
    "    contours_area = pd.Series([cv2.contourArea(contour) for contour in contours])\n",
    "    contours_area = contours_area[contours_area > 120]\n",
    "    contours_area = contours_area[contours_area < 350]\n",
    "    contours = [contours[i] for i in contours_area.index]\n",
    "    contours_bb = [cv2.boundingRect(cnt) for cnt in contours]\n",
    "    \n",
    "    max_score = {}\n",
    "    loc = {}\n",
    "    #drawContours() modifies its input image\n",
    "    #cv2.drawContours(contourIM, contours, -1,(0,255,0),1)\n",
    "    for i,(x,y,w,h) in enumerate(contours_bb):\n",
    "        if h > w:\n",
    "            diff = h-w\n",
    "            w = h\n",
    "            x -= (diff/2 + 1)\n",
    "        if w > h:\n",
    "            diff = w-h\n",
    "            h = w\n",
    "            y -= diff/2\n",
    "        \n",
    "        char_img = gray[y:y+h,x:x+w].copy()\n",
    "        if char_img.shape[0] == 0 or char_img.shape[1] == 0:\n",
    "            continue\n",
    "        char_img = cv2.resize(char_img, (30,30), interpolation=cv2.INTER_CUBIC)\n",
    "        char_img = char_img.astype(np.float32)\n",
    "        char_img = char_img/255*2 - 1\n",
    "        char_img = np.expand_dims(char_img, axis=0)\n",
    "        char_img = char_img[..., np.newaxis]\n",
    "        predicted_vec = model.predict(char_img)\n",
    "        score = np.amax(predicted_vec, axis=1)[0]\n",
    "        prediction = char_names[np.argmax(predicted_vec)]\n",
    "    \n",
    "        if score > max_score.get(prediction, 0) and prediction in capital_letters:# and prediction!='I':\n",
    "            max_score[prediction] = score\n",
    "            loc[prediction] = (x,y,w,h)\n",
    "    \n",
    "    #if 'sym_num' in max_score: del max_score['sym_num']\n",
    "    #if 'I' in max_score: del max_score['I']\n",
    "    for c in loc:\n",
    "        x,y,w,h = loc[c]\n",
    "        contourIM = cv2.rectangle(contourIM,(x,y),(x+w,y+h),(0,255,0),1)\n",
    "        contourIM = cv2.putText(contourIM, '{},{:.0f}'.format(c,max_score[c]*100), (x,y-2), \\\n",
    "                                cv2.FONT_HERSHEY_SIMPLEX, 0.4, (0,255,0))\n",
    "        #contourIM = cv2.putText(contourIM, '{}'.format(c), (x,y-2), \\\n",
    "        #                        cv2.FONT_HERSHEY_SIMPLEX, 0.4, (0,255,0))\n",
    "        \n",
    "    cv2.imshow('contourIM',contourIM)\n",
    "    cv2.imshow('mask',mask)\n",
    "    if cv2.waitKey(1) & 0xFF == ord('q'):\n",
    "        break\n",
    "        \n",
    "print(\"Number of contours: {}\".format(len(contours)))\n",
    "cv2.destroyAllWindows()\n",
    "cap.release()\n"
   ]
  },
  {
   "cell_type": "code",
   "execution_count": null,
   "metadata": {},
   "outputs": [],
   "source": [
    "cv2.destroyAllWindows()\n",
    "cap.release()"
   ]
  },
  {
   "cell_type": "code",
   "execution_count": 90,
   "metadata": {},
   "outputs": [
    {
     "name": "stdout",
     "output_type": "stream",
     "text": [
      "Number of contours: 58\n"
     ]
    }
   ],
   "source": [
    "# dictionary for max_score\n",
    "\n",
    "# Video Capture Test\n",
    "# Display contour image for color image\n",
    "import numpy as np\n",
    "import cv2\n",
    "import pandas as pd\n",
    "import matplotlib.pyplot as plt\n",
    "\n",
    "capital_letters = ['A','B','C','D','E','F','G','H','I','J','K', \\\n",
    "                   'L','M','N','O','P','Q','R','S','T','U','V','W','X','Y','Z']\n",
    "\n",
    "cap = cv2.VideoCapture(0)\n",
    "\n",
    "while True:\n",
    "    ret, frame = cap.read()\n",
    "\n",
    "    contourIM = frame.copy()\n",
    "    gray = cv2.cvtColor(contourIM, cv2.COLOR_BGR2GRAY)\n",
    "    ret, threshold = cv2.threshold(gray,165,255,cv2.THRESH_BINARY)\n",
    "\n",
    "    kernel33 = np.ones((3,3),np.uint8)\n",
    "    kernel22 = np.ones((2,2),np.uint8)\n",
    "    #mask = cv2.morphologyEx(threshold, cv2.MORPH_OPEN, kernel33)\n",
    "    mask = cv2.dilate(threshold,kernel33,iterations = 4)\n",
    "\n",
    "    #findContours() does not modify its input image\n",
    "    _, contours,_ = cv2.findContours(mask,cv2.RETR_TREE, cv2.CHAIN_APPROX_SIMPLE)\n",
    "    contours_area = pd.Series([cv2.contourArea(contour) for contour in contours])\n",
    "    contours_area = contours_area[contours_area > 120]\n",
    "    contours_area = contours_area[contours_area < 350]\n",
    "    contours = [contours[i] for i in contours_area.index]\n",
    "    contours_bb = [cv2.boundingRect(cnt) for cnt in contours]\n",
    "    \n",
    "    max_score = {}\n",
    "    loc = {}\n",
    "    #drawContours() modifies its input image\n",
    "    #cv2.drawContours(contourIM, contours, -1,(0,255,0),1)\n",
    "    for i,(x,y,w,h) in enumerate(contours_bb):\n",
    "        if h > w:\n",
    "            diff = h-w\n",
    "            w = h\n",
    "            x -= (diff/2 + 1)\n",
    "        if w > h:\n",
    "            diff = w-h\n",
    "            h = w\n",
    "            y -= diff/2\n",
    "        \n",
    "        \n",
    "        char_img = gray[y:y+h,x:x+w].copy()\n",
    "        if char_img.shape[0] == 0 or char_img.shape[1] == 0:\n",
    "            continue\n",
    "        char_img = cv2.resize(char_img, (30,30), interpolation=cv2.INTER_CUBIC)\n",
    "        char_img = char_img.astype(np.float32)\n",
    "        char_img = char_img/255*2 - 1\n",
    "        char_img = np.expand_dims(char_img, axis=0)\n",
    "        char_img = char_img[..., np.newaxis]\n",
    "        predicted_vec = model.predict(char_img)\n",
    "        score = np.amax(predicted_vec, axis=1)[0]\n",
    "        prediction = char_names[np.argmax(predicted_vec)]\n",
    "        \n",
    "        #if prediction in capital_letters:\n",
    "        contourIM = cv2.rectangle(contourIM,(x,y),(x+w,y+h),(0,255,0),1)\n",
    "        #contourIM = cv2.putText(contourIM, '{},{:.0f}'.format(prediction, score*100), (x,y-2), \\\n",
    "        #                        cv2.FONT_HERSHEY_SIMPLEX, 0.4, (0,255,0))\n",
    "        contourIM = cv2.putText(contourIM, '{},{}'.format(prediction, contours_area.iloc[i]), (x,y-2), \\\n",
    "                               cv2.FONT_HERSHEY_SIMPLEX, 0.4, (0,255,0))\n",
    "        \n",
    "    cv2.imshow('contourIM',contourIM)\n",
    "    cv2.imshow('mask',mask)\n",
    "    if cv2.waitKey(1) & 0xFF == ord('q'):\n",
    "        break\n",
    "        \n",
    "print(\"Number of contours: {}\".format(len(contours)))\n",
    "cv2.destroyAllWindows()\n",
    "cap.release()\n"
   ]
  },
  {
   "cell_type": "code",
   "execution_count": null,
   "metadata": {},
   "outputs": [],
   "source": [
    "cv2.destroyAllWindows()\n",
    "cap.release()"
   ]
  }
 ],
 "metadata": {
  "kernelspec": {
   "display_name": "py2",
   "language": "python",
   "name": "py2"
  },
  "language_info": {
   "codemirror_mode": {
    "name": "ipython",
    "version": 2
   },
   "file_extension": ".py",
   "mimetype": "text/x-python",
   "name": "python",
   "nbconvert_exporter": "python",
   "pygments_lexer": "ipython2",
   "version": "2.7.15"
  }
 },
 "nbformat": 4,
 "nbformat_minor": 2
}
