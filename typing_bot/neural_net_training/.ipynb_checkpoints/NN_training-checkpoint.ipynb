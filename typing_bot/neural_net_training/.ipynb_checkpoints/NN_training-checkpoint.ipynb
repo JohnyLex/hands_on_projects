{
 "cells": [
  {
   "cell_type": "code",
   "execution_count": 1,
   "metadata": {},
   "outputs": [
    {
     "name": "stderr",
     "output_type": "stream",
     "text": [
      "Using TensorFlow backend.\n"
     ]
    },
    {
     "name": "stdout",
     "output_type": "stream",
     "text": [
      "There are 61 total character categories.\n",
      "There are 17568 total character images.\n",
      "\n",
      "There are 14091 training character images.\n",
      "There are 3477 validation character images.\n"
     ]
    }
   ],
   "source": [
    "from sklearn.datasets import load_files       \n",
    "from keras.utils import np_utils\n",
    "import numpy as np\n",
    "from glob import glob\n",
    "\n",
    "# define function to load train, test, and validation datasets\n",
    "def load_dataset(path, num_classes):\n",
    "    data = load_files(path, random_state=1)\n",
    "    files = np.array(data['filenames'])\n",
    "    targets = np_utils.to_categorical(np.array(data['target']), num_classes)\n",
    "    return files, targets\n",
    "\n",
    "# load list of character names\n",
    "char_names = [item[42:-1] for item in sorted(glob(\"../char_gen/generated_char_split/train/*/\"))]\n",
    "num_classes = len(char_names)\n",
    "\n",
    "# load train, test, and validation datasets\n",
    "train_files, train_targets = load_dataset('../char_gen/generated_char_split/train', num_classes)\n",
    "valid_files, valid_targets = load_dataset('../char_gen/generated_char_split/valid', num_classes)\n",
    "\n",
    "# print statistics about the dataset\n",
    "print('There are %d total character categories.' % len(char_names))\n",
    "print('There are %s total character images.\\n' % len(np.hstack([train_files, valid_files])))\n",
    "print('There are %d training character images.' % len(train_files))\n",
    "print('There are %d validation character images.' % len(valid_files))"
   ]
  },
  {
   "cell_type": "code",
   "execution_count": 2,
   "metadata": {},
   "outputs": [
    {
     "name": "stdout",
     "output_type": "stream",
     "text": [
      "['../char_gen/generated_char_split/train/53.}/1-17036_GillSans_fs_26_bc_125_}.png'\n",
      " '../char_gen/generated_char_split/train/10.K/1-5127_arial_fs_23_bc_100_K.png'\n",
      " '../char_gen/generated_char_split/train/54.[/1-8312_arial_fs_26_bc_65_[.png'\n",
      " '../char_gen/generated_char_split/train/13.N/1-1003_swiss_fs_28_bc_120_N.png'\n",
      " '../char_gen/generated_char_split/train/16.Q/1-5566_arial_fs_23_bc_135_Q.png']\n",
      "[[0. 0. 0. 0. 0. 0. 0. 0. 0. 0. 0. 0. 0. 0. 0. 0. 0. 0. 0. 0. 0. 0. 0. 0.\n",
      "  0. 0. 0. 0. 0. 0. 0. 0. 0. 0. 0. 0. 0. 0. 0. 0. 0. 0. 0. 0. 0. 0. 0. 0.\n",
      "  0. 0. 0. 0. 0. 1. 0. 0. 0. 0. 0. 0. 0.]\n",
      " [0. 0. 0. 0. 0. 0. 0. 0. 0. 0. 1. 0. 0. 0. 0. 0. 0. 0. 0. 0. 0. 0. 0. 0.\n",
      "  0. 0. 0. 0. 0. 0. 0. 0. 0. 0. 0. 0. 0. 0. 0. 0. 0. 0. 0. 0. 0. 0. 0. 0.\n",
      "  0. 0. 0. 0. 0. 0. 0. 0. 0. 0. 0. 0. 0.]\n",
      " [0. 0. 0. 0. 0. 0. 0. 0. 0. 0. 0. 0. 0. 0. 0. 0. 0. 0. 0. 0. 0. 0. 0. 0.\n",
      "  0. 0. 0. 0. 0. 0. 0. 0. 0. 0. 0. 0. 0. 0. 0. 0. 0. 0. 0. 0. 0. 0. 0. 0.\n",
      "  0. 0. 0. 0. 0. 0. 1. 0. 0. 0. 0. 0. 0.]\n",
      " [0. 0. 0. 0. 0. 0. 0. 0. 0. 0. 0. 0. 0. 1. 0. 0. 0. 0. 0. 0. 0. 0. 0. 0.\n",
      "  0. 0. 0. 0. 0. 0. 0. 0. 0. 0. 0. 0. 0. 0. 0. 0. 0. 0. 0. 0. 0. 0. 0. 0.\n",
      "  0. 0. 0. 0. 0. 0. 0. 0. 0. 0. 0. 0. 0.]\n",
      " [0. 0. 0. 0. 0. 0. 0. 0. 0. 0. 0. 0. 0. 0. 0. 0. 1. 0. 0. 0. 0. 0. 0. 0.\n",
      "  0. 0. 0. 0. 0. 0. 0. 0. 0. 0. 0. 0. 0. 0. 0. 0. 0. 0. 0. 0. 0. 0. 0. 0.\n",
      "  0. 0. 0. 0. 0. 0. 0. 0. 0. 0. 0. 0. 0.]]\n"
     ]
    }
   ],
   "source": [
    "print(train_files[0:5])\n",
    "print(train_targets[0:5])"
   ]
  },
  {
   "cell_type": "code",
   "execution_count": 3,
   "metadata": {},
   "outputs": [],
   "source": [
    "from keras.preprocessing import image                  \n",
    "from tqdm import tqdm\n",
    "\n",
    "def path_to_tensor(img_path):\n",
    "    # loads RGB image as PIL.Image.Image type\n",
    "    img = image.load_img(img_path, target_size=(30, 30), grayscale=True)\n",
    "    # convert PIL.Image.Image type to 3D tensor with shape (30, 30, 1)\n",
    "    x = image.img_to_array(img)\n",
    "    # convert 3D tensor to 4D tensor with shape (1, 224, 224, 3) and return 4D tensor\n",
    "    return np.expand_dims(x, axis=0)\n",
    "\n",
    "def paths_to_tensor(img_paths):\n",
    "    list_of_tensors = [path_to_tensor(img_path) for img_path in tqdm(img_paths)]\n",
    "    return np.vstack(list_of_tensors)"
   ]
  },
  {
   "cell_type": "code",
   "execution_count": 4,
   "metadata": {},
   "outputs": [
    {
     "name": "stderr",
     "output_type": "stream",
     "text": [
      "  0%|          | 0/14091 [00:00<?, ?it/s]/home/chedanix/.local/lib/python2.7/site-packages/keras_preprocessing/image.py:492: UserWarning: grayscale is deprecated. Please use color_mode = \"grayscale\"\n",
      "  warnings.warn('grayscale is deprecated. Please use '\n",
      "100%|██████████| 14091/14091 [00:01<00:00, 9909.65it/s] \n",
      "100%|██████████| 3477/3477 [00:00<00:00, 8406.20it/s] \n"
     ]
    }
   ],
   "source": [
    "from PIL import ImageFile                            \n",
    "ImageFile.LOAD_TRUNCATED_IMAGES = True                 \n",
    "\n",
    "# Load the data\n",
    "train_tensors = paths_to_tensor(train_files)\n",
    "\n",
    "valid_tensors = paths_to_tensor(valid_files)"
   ]
  },
  {
   "cell_type": "code",
   "execution_count": 5,
   "metadata": {},
   "outputs": [
    {
     "name": "stdout",
     "output_type": "stream",
     "text": [
      "(14091, 30, 30, 1)\n",
      "(14091, 61)\n",
      "(3477, 30, 30, 1)\n",
      "(3477, 61)\n"
     ]
    }
   ],
   "source": [
    "print(train_tensors.shape)\n",
    "print(train_targets.shape)\n",
    "\n",
    "print(valid_tensors.shape)\n",
    "print(valid_targets.shape)"
   ]
  },
  {
   "cell_type": "code",
   "execution_count": 6,
   "metadata": {},
   "outputs": [
    {
     "data": {
      "image/png": "[encoded data removed]",
      "text/plain": [
       "<Figure size 1440x360 with 36 Axes>"
      ]
     },
     "metadata": {},
     "output_type": "display_data"
    }
   ],
   "source": [
    "import matplotlib.pyplot as plt\n",
    "%matplotlib inline\n",
    "\n",
    "fig = plt.figure(figsize=(20,5))\n",
    "for i in range(36):\n",
    "    ax = fig.add_subplot(3, 12, i + 1, xticks=[], yticks=[])\n",
    "    ax.imshow(np.squeeze(train_tensors[i]), cmap='gray')"
   ]
  },
  {
   "cell_type": "code",
   "execution_count": 7,
   "metadata": {},
   "outputs": [],
   "source": [
    "from keras.preprocessing.image import ImageDataGenerator\n",
    "\n",
    "# create and configure augmented image generator\n",
    "datagen_train = ImageDataGenerator(\n",
    "    width_shift_range=0.05,  # randomly shift images horizontally\n",
    "    height_shift_range=0.05,  # randomly shift images vertically\n",
    "    horizontal_flip=False,  # randomly flip images horizontally\n",
    "    rotation_range = 7,\n",
    "    zoom_range = [1,1.15]) \n",
    "\n",
    "# fit augmented image generator on data\n",
    "datagen_train.fit(train_tensors)"
   ]
  },
  {
   "cell_type": "code",
   "execution_count": 8,
   "metadata": {},
   "outputs": [
    {
     "data": {
      "image/png": "[encoded data removed]",
      "text/plain": [
       "<Figure size 1440x144 with 12 Axes>"
      ]
     },
     "metadata": {},
     "output_type": "display_data"
    },
    {
     "data": {
      "image/png": "[encoded data removed]",
      "text/plain": [
       "<Figure size 1440x144 with 12 Axes>"
      ]
     },
     "metadata": {},
     "output_type": "display_data"
    }
   ],
   "source": [
    "train_tensors_subset = train_tensors[0:12]\n",
    "\n",
    "# visualize subset of training data\n",
    "fig = plt.figure(figsize=(20,2))\n",
    "for i in range(0, len(train_tensors_subset)):\n",
    "    ax = fig.add_subplot(1, 12, i+1)\n",
    "    ax.imshow(np.squeeze(train_tensors[i]), cmap='gray')\n",
    "fig.suptitle('Subset of Original Training Images', fontsize=20)\n",
    "plt.show()\n",
    "\n",
    "# visualize augmented images\n",
    "fig = plt.figure(figsize=(20,2))\n",
    "for x_batch in datagen_train.flow(train_tensors_subset, batch_size=12):\n",
    "    for i in range(0, 12):\n",
    "        ax = fig.add_subplot(1, 12, i+1)\n",
    "        ax.imshow(np.squeeze(x_batch[i]), cmap='gray')\n",
    "    fig.suptitle('Augmented Images', fontsize=20)\n",
    "    plt.show()\n",
    "    break;"
   ]
  },
  {
   "cell_type": "code",
   "execution_count": 9,
   "metadata": {},
   "outputs": [],
   "source": [
    "# Preprocess the data\n",
    "train_tensors = train_tensors/255*2 - 1\n",
    "valid_tensors = valid_tensors/255*2 - 1"
   ]
  },
  {
   "cell_type": "code",
   "execution_count": 10,
   "metadata": {},
   "outputs": [
    {
     "name": "stdout",
     "output_type": "stream",
     "text": [
      "_________________________________________________________________\n",
      "Layer (type)                 Output Shape              Param #   \n",
      "=================================================================\n",
      "conv2d_1 (Conv2D)            (None, 30, 30, 32)        320       \n",
      "_________________________________________________________________\n",
      "activation_1 (Activation)    (None, 30, 30, 32)        0         \n",
      "_________________________________________________________________\n",
      "batch_normalization_1 (Batch (None, 30, 30, 32)        128       \n",
      "_________________________________________________________________\n",
      "dropout_1 (Dropout)          (None, 30, 30, 32)        0         \n",
      "_________________________________________________________________\n",
      "conv2d_2 (Conv2D)            (None, 30, 30, 32)        9248      \n",
      "_________________________________________________________________\n",
      "activation_2 (Activation)    (None, 30, 30, 32)        0         \n",
      "_________________________________________________________________\n",
      "max_pooling2d_1 (MaxPooling2 (None, 15, 15, 32)        0         \n",
      "_________________________________________________________________\n",
      "batch_normalization_2 (Batch (None, 15, 15, 32)        128       \n",
      "_________________________________________________________________\n",
      "dropout_2 (Dropout)          (None, 15, 15, 32)        0         \n",
      "_________________________________________________________________\n",
      "conv2d_3 (Conv2D)            (None, 15, 15, 64)        18496     \n",
      "_________________________________________________________________\n",
      "activation_3 (Activation)    (None, 15, 15, 64)        0         \n",
      "_________________________________________________________________\n",
      "batch_normalization_3 (Batch (None, 15, 15, 64)        256       \n",
      "_________________________________________________________________\n",
      "dropout_3 (Dropout)          (None, 15, 15, 64)        0         \n",
      "_________________________________________________________________\n",
      "conv2d_4 (Conv2D)            (None, 15, 15, 64)        36928     \n",
      "_________________________________________________________________\n",
      "activation_4 (Activation)    (None, 15, 15, 64)        0         \n",
      "_________________________________________________________________\n",
      "max_pooling2d_2 (MaxPooling2 (None, 7, 7, 64)          0         \n",
      "_________________________________________________________________\n",
      "batch_normalization_4 (Batch (None, 7, 7, 64)          256       \n",
      "_________________________________________________________________\n",
      "dropout_4 (Dropout)          (None, 7, 7, 64)          0         \n",
      "_________________________________________________________________\n",
      "conv2d_5 (Conv2D)            (None, 7, 7, 128)         73856     \n",
      "_________________________________________________________________\n",
      "activation_5 (Activation)    (None, 7, 7, 128)         0         \n",
      "_________________________________________________________________\n",
      "batch_normalization_5 (Batch (None, 7, 7, 128)         512       \n",
      "_________________________________________________________________\n",
      "dropout_5 (Dropout)          (None, 7, 7, 128)         0         \n",
      "_________________________________________________________________\n",
      "conv2d_6 (Conv2D)            (None, 7, 7, 128)         147584    \n",
      "_________________________________________________________________\n",
      "activation_6 (Activation)    (None, 7, 7, 128)         0         \n",
      "_________________________________________________________________\n",
      "flatten_1 (Flatten)          (None, 6272)              0         \n",
      "_________________________________________________________________\n",
      "batch_normalization_6 (Batch (None, 6272)              25088     \n",
      "_________________________________________________________________\n",
      "dropout_6 (Dropout)          (None, 6272)              0         \n",
      "_________________________________________________________________\n",
      "dense_1 (Dense)              (None, 256)               1605888   \n",
      "_________________________________________________________________\n",
      "activation_7 (Activation)    (None, 256)               0         \n",
      "_________________________________________________________________\n",
      "batch_normalization_7 (Batch (None, 256)               1024      \n",
      "_________________________________________________________________\n",
      "dropout_7 (Dropout)          (None, 256)               0         \n",
      "_________________________________________________________________\n",
      "dense_2 (Dense)              (None, 61)                15677     \n",
      "_________________________________________________________________\n",
      "activation_8 (Activation)    (None, 61)                0         \n",
      "=================================================================\n",
      "Total params: 1,935,389\n",
      "Trainable params: 1,921,693\n",
      "Non-trainable params: 13,696\n",
      "_________________________________________________________________\n"
     ]
    }
   ],
   "source": [
    "from keras.layers import Conv2D, MaxPooling2D, GlobalAveragePooling2D\n",
    "from keras.layers import Dropout, Flatten, Dense, Activation, BatchNormalization\n",
    "from keras.models import Sequential\n",
    "from keras import regularizers\n",
    "\n",
    "model = Sequential()\n",
    "\n",
    "### TODO: Define your architecture.\n",
    "model.add(Conv2D(32, (3, 3), padding='same',\n",
    "                 input_shape=train_tensors.shape[1:]))\n",
    "model.add(Activation('relu'))\n",
    "model.add(BatchNormalization())\n",
    "model.add(Dropout(0.2))\n",
    "model.add(Conv2D(32, (3, 3), padding='same'))\n",
    "model.add(Activation('relu'))\n",
    "model.add(MaxPooling2D(pool_size=(2, 2)))\n",
    "model.add(BatchNormalization())\n",
    "model.add(Dropout(0.2))\n",
    "\n",
    "model.add(Conv2D(64, (3, 3), padding='same'))\n",
    "model.add(Activation('relu'))\n",
    "model.add(BatchNormalization())\n",
    "model.add(Dropout(0.2))\n",
    "model.add(Conv2D(64, (3, 3), padding='same'))\n",
    "model.add(Activation('relu'))\n",
    "model.add(MaxPooling2D(pool_size=(2, 2)))\n",
    "model.add(BatchNormalization())\n",
    "model.add(Dropout(0.2))\n",
    "\n",
    "model.add(Conv2D(128, (3, 3), padding='same'))\n",
    "model.add(Activation('relu'))\n",
    "model.add(BatchNormalization())\n",
    "model.add(Dropout(0.2))\n",
    "model.add(Conv2D(128, (3, 3), padding='same'))\n",
    "model.add(Activation('relu'))\n",
    "\n",
    "model.add(Flatten())\n",
    "model.add(BatchNormalization())\n",
    "model.add(Dropout(0.3))\n",
    "model.add(Dense(256))\n",
    "model.add(Activation('relu'))\n",
    "model.add(BatchNormalization())\n",
    "model.add(Dropout(0.4))\n",
    "model.add(Dense(num_classes))\n",
    "model.add(Activation('softmax'))\n",
    "\n",
    "model.summary()"
   ]
  },
  {
   "cell_type": "code",
   "execution_count": 11,
   "metadata": {},
   "outputs": [],
   "source": [
    "from keras.optimizers import RMSprop, Adam\n",
    "#opt = Adam(lr=0.002, decay=0.01)\n",
    "opt = RMSprop(lr=0.0001)\n",
    "model.compile(optimizer=opt, loss='categorical_crossentropy', metrics=['accuracy'])"
   ]
  },
  {
   "cell_type": "code",
   "execution_count": 12,
   "metadata": {
    "scrolled": true
   },
   "outputs": [
    {
     "name": "stdout",
     "output_type": "stream",
     "text": [
      "Epoch 1/30\n",
      " - 5s - loss: 3.7097 - acc: 0.1469 - val_loss: 1.6869 - val_acc: 0.5154\n",
      "Epoch 2/30\n",
      " - 2s - loss: 1.8664 - acc: 0.4685 - val_loss: 0.5360 - val_acc: 0.8418\n",
      "Epoch 3/30\n",
      " - 2s - loss: 1.0914 - acc: 0.6779 - val_loss: 0.2781 - val_acc: 0.9143\n",
      "Epoch 4/30\n",
      " - 2s - loss: 0.7125 - acc: 0.7928 - val_loss: 0.2000 - val_acc: 0.9290\n",
      "Epoch 5/30\n",
      " - 2s - loss: 0.4874 - acc: 0.8631 - val_loss: 0.1496 - val_acc: 0.9433\n",
      "Epoch 6/30\n",
      " - 2s - loss: 0.3500 - acc: 0.9055 - val_loss: 0.1198 - val_acc: 0.9551\n",
      "Epoch 7/30\n",
      " - 2s - loss: 0.2602 - acc: 0.9332 - val_loss: 0.0675 - val_acc: 0.9767\n",
      "Epoch 8/30\n",
      " - 2s - loss: 0.2054 - acc: 0.9457 - val_loss: 0.0584 - val_acc: 0.9756\n",
      "Epoch 9/30\n",
      " - 2s - loss: 0.1566 - acc: 0.9606 - val_loss: 0.0296 - val_acc: 0.9919\n",
      "Epoch 10/30\n",
      " - 2s - loss: 0.1249 - acc: 0.9699 - val_loss: 0.0239 - val_acc: 0.9928\n",
      "Epoch 11/30\n",
      " - 2s - loss: 0.1043 - acc: 0.9743 - val_loss: 0.0165 - val_acc: 0.9957\n",
      "Epoch 12/30\n",
      " - 2s - loss: 0.0887 - acc: 0.9773 - val_loss: 0.0175 - val_acc: 0.9948\n",
      "Epoch 13/30\n",
      " - 2s - loss: 0.0733 - acc: 0.9816 - val_loss: 0.0166 - val_acc: 0.9945\n",
      "Epoch 14/30\n",
      " - 2s - loss: 0.0626 - acc: 0.9844 - val_loss: 0.0117 - val_acc: 0.9957\n",
      "Epoch 15/30\n",
      " - 2s - loss: 0.0565 - acc: 0.9859 - val_loss: 0.0121 - val_acc: 0.9954\n",
      "Epoch 16/30\n",
      " - 2s - loss: 0.0534 - acc: 0.9858 - val_loss: 0.0099 - val_acc: 0.9960\n",
      "Epoch 17/30\n",
      " - 2s - loss: 0.0413 - acc: 0.9889 - val_loss: 0.0114 - val_acc: 0.9954\n",
      "Epoch 18/30\n",
      " - 2s - loss: 0.0406 - acc: 0.9884 - val_loss: 0.0126 - val_acc: 0.9954\n",
      "Epoch 19/30\n",
      " - 2s - loss: 0.0373 - acc: 0.9896 - val_loss: 0.0107 - val_acc: 0.9957\n",
      "Epoch 20/30\n",
      " - 2s - loss: 0.0313 - acc: 0.9915 - val_loss: 0.0120 - val_acc: 0.9954\n",
      "Epoch 21/30\n",
      " - 2s - loss: 0.0287 - acc: 0.9926 - val_loss: 0.0148 - val_acc: 0.9954\n",
      "Epoch 22/30\n",
      " - 2s - loss: 0.0277 - acc: 0.9918 - val_loss: 0.0085 - val_acc: 0.9960\n",
      "Epoch 23/30\n",
      " - 2s - loss: 0.0274 - acc: 0.9920 - val_loss: 0.0087 - val_acc: 0.9951\n",
      "Epoch 24/30\n",
      " - 2s - loss: 0.0228 - acc: 0.9933 - val_loss: 0.0079 - val_acc: 0.9960\n",
      "Epoch 25/30\n",
      " - 2s - loss: 0.0243 - acc: 0.9926 - val_loss: 0.0142 - val_acc: 0.9954\n",
      "Epoch 26/30\n",
      " - 2s - loss: 0.0227 - acc: 0.9930 - val_loss: 0.0175 - val_acc: 0.9954\n",
      "Epoch 27/30\n",
      " - 2s - loss: 0.0210 - acc: 0.9937 - val_loss: 0.0080 - val_acc: 0.9954\n",
      "Epoch 28/30\n",
      " - 2s - loss: 0.0210 - acc: 0.9939 - val_loss: 0.0102 - val_acc: 0.9954\n",
      "Epoch 29/30\n",
      " - 2s - loss: 0.0184 - acc: 0.9938 - val_loss: 0.0095 - val_acc: 0.9954\n",
      "Epoch 30/30\n",
      " - 2s - loss: 0.0196 - acc: 0.9933 - val_loss: 0.0089 - val_acc: 0.9954\n"
     ]
    }
   ],
   "source": [
    "from keras.callbacks import ModelCheckpoint  \n",
    "\n",
    "### TODO: specify the number of epochs that you would like to use to train the model.\n",
    "\n",
    "epochs = 30\n",
    "batch_size= 128\n",
    "\n",
    "### Do NOT modify the code below this line.\n",
    "\n",
    "checkpointer = ModelCheckpoint(filepath='saved_models/weights.best.hdf5', \n",
    "                               verbose=0, save_best_only=True)\n",
    "\n",
    "hist = model.fit_generator(datagen_train.flow(train_tensors, train_targets, batch_size=batch_size),\n",
    "                    steps_per_epoch=train_tensors.shape[0] // batch_size,\n",
    "                    epochs=epochs, verbose=2, callbacks=[checkpointer],\n",
    "                    validation_data=(valid_tensors, valid_targets),\n",
    "                    validation_steps=valid_tensors.shape[0] // batch_size)"
   ]
  },
  {
   "cell_type": "code",
   "execution_count": 13,
   "metadata": {},
   "outputs": [
    {
     "data": {
      "image/png": "[encoded data removed]",
      "text/plain": [
       "<Figure size 432x288 with 1 Axes>"
      ]
     },
     "metadata": {},
     "output_type": "display_data"
    }
   ],
   "source": [
    "plt.plot(hist.history['acc']) \n",
    "plt.plot(hist.history['val_acc'])\n",
    "plt.title('model accuracy') \n",
    "plt.ylabel('accuracy') \n",
    "plt.xlabel('epoch') \n",
    "plt.legend(['train', 'val'], loc='upper left') \n",
    "plt.show() "
   ]
  },
  {
   "cell_type": "code",
   "execution_count": 14,
   "metadata": {},
   "outputs": [],
   "source": [
    "### TODO: Load the model weights with the best validation loss.\n",
    "model.load_weights('saved_models/weights.best.hdf5')"
   ]
  },
  {
   "cell_type": "code",
   "execution_count": 15,
   "metadata": {},
   "outputs": [
    {
     "data": {
      "text/plain": [
       "\"\\nfrom matplotlib.colors import NoNorm\\nabc = path_to_tensor('../char_gen/generated_char_split/train/07.H/1-3286_arial_fs_23_bc_135_H.png')\\nabc = abc/255\\nprint(abc.shape)\\nplt.figurewd3\\nplt.imshow(np.squeeze(abc), cmap='gray', norm=NoNorm())\\npredicted_vec = model.predict(abc)\\nprediction = char_names[np.argmax(predicted_vec)]\\nprint(prediction)\\n\""
      ]
     },
     "execution_count": 15,
     "metadata": {},
     "output_type": "execute_result"
    }
   ],
   "source": [
    "'''\n",
    "from matplotlib.colors import NoNorm\n",
    "abc = path_to_tensor('../char_gen/generated_char_split/train/07.H/1-3286_arial_fs_23_bc_135_H.png')\n",
    "abc = abc/255\n",
    "print(abc.shape)\n",
    "plt.figurewd3\n",
    "plt.imshow(np.squeeze(abc), cmap='gray', norm=NoNorm())\n",
    "predicted_vec = model.predict(abc)\n",
    "prediction = char_names[np.argmax(predicted_vec)]\n",
    "print(prediction)\n",
    "'''"
   ]
  },
  {
   "cell_type": "code",
   "execution_count": 16,
   "metadata": {},
   "outputs": [
    {
     "name": "stdout",
     "output_type": "stream",
     "text": [
      "Number of contours: 0\n"
     ]
    }
   ],
   "source": [
    "# dictionary for max_score\n",
    "\n",
    "# Video Capture Test\n",
    "# Display contour image for color image\n",
    "import numpy as np\n",
    "import cv2\n",
    "import pandas as pd\n",
    "import matplotlib.pyplot as plt\n",
    "\n",
    "capital_letters = ['A','B','C','D','E','F','G','H','I','J','K', \\\n",
    "                   'L','M','N','O','P','Q','R','S','T','U','V','W','X','Y','Z']\n",
    "\n",
    "cap = cv2.VideoCapture(0)\n",
    "\n",
    "while True:\n",
    "    ret, frame = cap.read()\n",
    "\n",
    "    contourIM = frame.copy()\n",
    "    gray = cv2.cvtColor(contourIM, cv2.COLOR_BGR2GRAY)\n",
    "    ret, threshold = cv2.threshold(gray,165,255,cv2.THRESH_BINARY)\n",
    "\n",
    "    kernel33 = np.ones((3,3),np.uint8)\n",
    "    kernel22 = np.ones((2,2),np.uint8)\n",
    "    #mask = cv2.morphologyEx(threshold, cv2.MORPH_OPEN, kernel22)\n",
    "    mask = cv2.dilate(threshold,kernel33,iterations = 4)\n",
    "\n",
    "    #findContours() does not modify its input image\n",
    "    _, contours,_ = cv2.findContours(mask,cv2.RETR_TREE, cv2.CHAIN_APPROX_SIMPLE)\n",
    "    contours_area = pd.Series([cv2.contourArea(contour) for contour in contours])\n",
    "    contours_area = contours_area[contours_area > 120]\n",
    "    contours_area = contours_area[contours_area < 350]\n",
    "    contours = [contours[i] for i in contours_area.index]\n",
    "    contours_bb = [cv2.boundingRect(cnt) for cnt in contours]\n",
    "    \n",
    "    max_score = {}\n",
    "    loc = {}\n",
    "    #drawContours() modifies its input image\n",
    "    #cv2.drawContours(contourIM, contours, -1,(0,255,0),1)\n",
    "    for i,(x,y,w,h) in enumerate(contours_bb):\n",
    "        if h > w:\n",
    "            diff = h-w\n",
    "            w = h\n",
    "            x -= (diff/2 + 1)\n",
    "        if w > h:\n",
    "            diff = w-h\n",
    "            h = w\n",
    "            y -= diff/2\n",
    "        \n",
    "        char_img = gray[y:y+h,x:x+w].copy()\n",
    "        if char_img.shape[0] == 0 or char_img.shape[1] == 0:\n",
    "            continue\n",
    "        char_img = cv2.resize(char_img, (30,30), interpolation=cv2.INTER_CUBIC)\n",
    "        char_img = char_img.astype(np.float32)\n",
    "        char_img = char_img/255*2 - 1\n",
    "        char_img = np.expand_dims(char_img, axis=0)\n",
    "        char_img = char_img[..., np.newaxis]\n",
    "        predicted_vec = model.predict(char_img)\n",
    "        score = np.amax(predicted_vec, axis=1)[0]\n",
    "        prediction = char_names[np.argmax(predicted_vec)]\n",
    "    \n",
    "        if score > max_score.get(prediction, 0) and prediction in capital_letters:# and prediction!='I':\n",
    "            max_score[prediction] = score\n",
    "            loc[prediction] = (x,y,w,h)\n",
    "    \n",
    "    #if 'sym_num' in max_score: del max_score['sym_num']\n",
    "    #if 'I' in max_score: del max_score['I']\n",
    "    for c in loc:\n",
    "        x,y,w,h = loc[c]\n",
    "        contourIM = cv2.rectangle(contourIM,(x,y),(x+w,y+h),(0,255,0),1)\n",
    "        contourIM = cv2.putText(contourIM, '{},{:.0f}'.format(c,max_score[c]*100), (x,y-2), \\\n",
    "                                cv2.FONT_HERSHEY_SIMPLEX, 0.4, (0,255,0))\n",
    "        #contourIM = cv2.putText(contourIM, '{}'.format(c), (x,y-2), \\\n",
    "        #                        cv2.FONT_HERSHEY_SIMPLEX, 0.4, (0,255,0))\n",
    "        \n",
    "    cv2.imshow('contourIM',contourIM)\n",
    "    cv2.imshow('mask',mask)\n",
    "    if cv2.waitKey(1) & 0xFF == ord('q'):\n",
    "        break\n",
    "        \n",
    "print(\"Number of contours: {}\".format(len(contours)))\n",
    "cv2.destroyAllWindows()\n",
    "cap.release()\n"
   ]
  },
  {
   "cell_type": "code",
   "execution_count": 17,
   "metadata": {},
   "outputs": [],
   "source": [
    "cv2.destroyAllWindows()\n",
    "cap.release()"
   ]
  },
  {
   "cell_type": "code",
   "execution_count": 18,
   "metadata": {},
   "outputs": [
    {
     "name": "stdout",
     "output_type": "stream",
     "text": [
      "Number of contours: 4\n"
     ]
    }
   ],
   "source": [
    "# dictionary for max_score\n",
    "\n",
    "# Video Capture Test\n",
    "# Display contour image for color image\n",
    "import numpy as np\n",
    "import cv2\n",
    "import pandas as pd\n",
    "import matplotlib.pyplot as plt\n",
    "\n",
    "capital_letters = ['A','B','C','D','E','F','G','H','I','J','K', \\\n",
    "                   'L','M','N','O','P','Q','R','S','T','U','V','W','X','Y','Z']\n",
    "\n",
    "cap = cv2.VideoCapture(0)\n",
    "\n",
    "while True:\n",
    "    ret, frame = cap.read()\n",
    "\n",
    "    contourIM = frame.copy()\n",
    "    gray = cv2.cvtColor(contourIM, cv2.COLOR_BGR2GRAY)\n",
    "    ret, threshold = cv2.threshold(gray,165,255,cv2.THRESH_BINARY)\n",
    "\n",
    "    kernel33 = np.ones((3,3),np.uint8)\n",
    "    kernel22 = np.ones((2,2),np.uint8)\n",
    "    #mask = cv2.morphologyEx(threshold, cv2.MORPH_OPEN, kernel33)\n",
    "    mask = cv2.dilate(threshold,kernel33,iterations = 4)\n",
    "\n",
    "    #findContours() does not modify its input image\n",
    "    _, contours,_ = cv2.findContours(mask,cv2.RETR_TREE, cv2.CHAIN_APPROX_SIMPLE)\n",
    "    contours_area = pd.Series([cv2.contourArea(contour) for contour in contours])\n",
    "    contours_area = contours_area[contours_area > 120]\n",
    "    contours_area = contours_area[contours_area < 350]\n",
    "    contours = [contours[i] for i in contours_area.index]\n",
    "    contours_bb = [cv2.boundingRect(cnt) for cnt in contours]\n",
    "    \n",
    "    max_score = {}\n",
    "    loc = {}\n",
    "    #drawContours() modifies its input image\n",
    "    #cv2.drawContours(contourIM, contours, -1,(0,255,0),1)\n",
    "    for i,(x,y,w,h) in enumerate(contours_bb):\n",
    "        if h > w:\n",
    "            diff = h-w\n",
    "            w = h\n",
    "            x -= (diff/2 + 1)\n",
    "        if w > h:\n",
    "            diff = w-h\n",
    "            h = w\n",
    "            y -= diff/2\n",
    "        \n",
    "        \n",
    "        char_img = gray[y:y+h,x:x+w].copy()\n",
    "        if char_img.shape[0] == 0 or char_img.shape[1] == 0:\n",
    "            continue\n",
    "        char_img = cv2.resize(char_img, (30,30), interpolation=cv2.INTER_CUBIC)\n",
    "        char_img = char_img.astype(np.float32)\n",
    "        char_img = char_img/255*2 - 1\n",
    "        char_img = np.expand_dims(char_img, axis=0)\n",
    "        char_img = char_img[..., np.newaxis]\n",
    "        predicted_vec = model.predict(char_img)\n",
    "        score = np.amax(predicted_vec, axis=1)[0]\n",
    "        prediction = char_names[np.argmax(predicted_vec)]\n",
    "        \n",
    "        #if prediction in capital_letters:\n",
    "        contourIM = cv2.rectangle(contourIM,(x,y),(x+w,y+h),(0,255,0),1)\n",
    "        #contourIM = cv2.putText(contourIM, '{},{:.0f}'.format(prediction, score*100), (x,y-2), \\\n",
    "        #                        cv2.FONT_HERSHEY_SIMPLEX, 0.4, (0,255,0))\n",
    "        contourIM = cv2.putText(contourIM, '{},{}'.format(prediction, contours_area.iloc[i]), (x,y-2), \\\n",
    "                               cv2.FONT_HERSHEY_SIMPLEX, 0.4, (0,255,0))\n",
    "        \n",
    "    cv2.imshow('contourIM',contourIM)\n",
    "    cv2.imshow('mask',mask)\n",
    "    if cv2.waitKey(1) & 0xFF == ord('q'):\n",
    "        break\n",
    "        \n",
    "print(\"Number of contours: {}\".format(len(contours)))\n",
    "cv2.destroyAllWindows()\n",
    "cap.release()\n"
   ]
  },
  {
   "cell_type": "code",
   "execution_count": 19,
   "metadata": {},
   "outputs": [],
   "source": [
    "cv2.destroyAllWindows()\n",
    "cap.release()"
   ]
  }
 ],
 "metadata": {
  "kernelspec": {
   "display_name": "py2",
   "language": "python",
   "name": "py2"
  },
  "language_info": {
   "codemirror_mode": {
    "name": "ipython",
    "version": 2
   },
   "file_extension": ".py",
   "mimetype": "text/x-python",
   "name": "python",
   "nbconvert_exporter": "python",
   "pygments_lexer": "ipython2",
   "version": "2.7.15"
  }
 },
 "nbformat": 4,
 "nbformat_minor": 2
}
