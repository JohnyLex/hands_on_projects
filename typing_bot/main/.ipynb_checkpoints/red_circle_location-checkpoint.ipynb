{
 "cells": [
  {
   "cell_type": "code",
   "execution_count": 3,
   "metadata": {},
   "outputs": [],
   "source": [
    "import numpy as np\n",
    "import cv2\n",
    "\n",
    "cap = cv2.VideoCapture(0)\n",
    "cap.set(cv2.CAP_PROP_FRAME_WIDTH, 640)\n",
    "cap.set(cv2.CAP_PROP_FRAME_HEIGHT, 480)\n",
    "\n",
    "while True:\n",
    "    ret, frame = cap.read()\n",
    "    frame_drawn = frame.copy()\n",
    "    \n",
    "    frame_hsv = cv2.cvtColor(frame, cv2.COLOR_BGR2HSV)\n",
    "    mask_lo = cv2.inRange(frame_hsv, np.array([0,130,130]), np.array([5,255,255]))\n",
    "    mask_hi = cv2.inRange(frame_hsv, np.array([175,130,130]), np.array([180,255,255]))\n",
    "    mask = cv2.bitwise_or(mask_lo, mask_hi)\n",
    "    \n",
    "    kernel3 = np.ones((3,3), np.uint8)\n",
    "    kernel5 = np.ones((5,5), np.uint8)\n",
    "    mask = cv2.morphologyEx(mask, cv2.MORPH_CLOSE, kernel5)\n",
    "    mask = cv2.morphologyEx(mask, cv2.MORPH_OPEN, kernel5)\n",
    "    canny = cv2.Canny(mask,1000,500)\n",
    "    circles = cv2.HoughCircles(mask, cv2.HOUGH_GRADIENT, dp=1, minDist=100,\n",
    "                               param1=1000, param2=11, minRadius=5, maxRadius=20)\n",
    "    \n",
    "    # ensure exactly one red circle is found\n",
    "    if circles is not None and circles.shape[1]==1:\n",
    "        # reduce dimensions and convert the (x, y) coordinates and radius of the circles to integers\n",
    "        circles = np.round(circles[0, :]).astype(\"int\")\n",
    "\n",
    "        # loop over the (x, y) coordinates and radius of the circles\n",
    "        for (x, y, r) in circles:\n",
    "            # draw the circle in the output image, then draw a rectangle\n",
    "            # corresponding to the center of the circle\n",
    "            cv2.circle(frame_drawn, (x, y), r, (0, 255, 0), 1)\n",
    "            cv2.rectangle(frame_drawn, (x - 1, y - 1), (x + 1, y + 1), (0, 128, 255), -1)\n",
    "            cir_x = x\n",
    "            cir_y = y\n",
    "            cir_r = r\n",
    "    elif circles is not None and circles.shape[1]>1:\n",
    "        print('more than one red circles are found')\n",
    "        cir_x = None\n",
    "        cir_y = None\n",
    "        cir_r = None\n",
    "    \n",
    "    #img = cv2.bitwise_and(frame,frame, mask=mask)\n",
    "    cv2.imshow('img',frame_drawn)\n",
    "    cv2.imshow('img2',canny)\n",
    "    if cv2.waitKey(1) == ord('q'):\n",
    "        break\n",
    "    \n",
    "    \n",
    "    \n",
    "cv2.destroyAllWindows()\n",
    "cap.release()\n"
   ]
  },
  {
   "cell_type": "code",
   "execution_count": 4,
   "metadata": {},
   "outputs": [
    {
     "name": "stdout",
     "output_type": "stream",
     "text": [
      "cir_x: 82   cir_y: 298\n",
      "imgPt_key in (x,y,z) is (128.09, 287.878, 1.0)\n"
     ]
    }
   ],
   "source": [
    "from numpy.linalg import inv\n",
    "# intrinsic camera matrix\n",
    "# k obtained from millimeter measurements\n",
    "# The principle point is 312, 247 according to the matrix\n",
    "k = np.array([[628.66, 0.0,    312.45],\n",
    "              [0.0,    629.83, 247.39],\n",
    "              [0.0,    0.0,     1.0    ]])\n",
    "\n",
    "k_inv = inv(k)\n",
    "\n",
    "depth_cam2cir = 200 #millimeter\n",
    "depth_cir2key = 50\n",
    "\n",
    "imgPt_cir = np.array([[cir_x],\n",
    "                      [cir_y],\n",
    "                      [1 ]])\n",
    "\n",
    "worldPt_cir = k_inv.dot(depth_cam2cir * imgPt_cir)\n",
    "worldPt_key = worldPt_cir + np.array([[0],[0],[depth_cir2key]])\n",
    "imgPt_key = k.dot(worldPt_key) / worldPt_key[2,0]\n",
    "print('cir_x: {}   cir_y: {}'.format(cir_x,cir_y))\n",
    "print('imgPt_key in (x,y,z) is ({}, {}, {})'.format(imgPt_key[0,0], imgPt_key[1,0], imgPt_key[2,0]))"
   ]
  },
  {
   "cell_type": "code",
   "execution_count": null,
   "metadata": {},
   "outputs": [],
   "source": []
  }
 ],
 "metadata": {
  "kernelspec": {
   "display_name": "Python 3",
   "language": "python",
   "name": "python3"
  },
  "language_info": {
   "codemirror_mode": {
    "name": "ipython",
    "version": 3
   },
   "file_extension": ".py",
   "mimetype": "text/x-python",
   "name": "python",
   "nbconvert_exporter": "python",
   "pygments_lexer": "ipython3",
   "version": "3.6.4"
  }
 },
 "nbformat": 4,
 "nbformat_minor": 2
}
